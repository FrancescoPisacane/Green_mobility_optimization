{
  "cells": [
    {
      "cell_type": "markdown",
      "id": "71e8cba3",
      "metadata": {
        "id": "71e8cba3"
      },
      "source": [
        "# Optimal charging station location on a cycleway\n",
        "\n",
        "\n",
        "Consider a long linear cycle path  as Vento (VENezia-TOrino), or the Danube cycle path. The cycle path usually runs along the banks of a river with scarse tourist interest. However, from the main course of the cycle path it is possible to reach places of tourist interest by making small detours.  \n",
        "\n",
        "The rapid growth of e-bike ridership is proposing the problem of deploying a suitable charging infrastructure. The charging stations should be placed in strategic positions so as to guarantee a coverage of the whole cycle path. However, since the charging operations require a non negligible time, the charging station should be positioned in places where alternative activities could be carried out, as restaurants, museums, swimming pool, or other amenities. These places, called **Points of Interest (POI)**  are not on the main trajectory of the cyclepath, but the bikers must deviate to reach them.\n",
        "\n",
        "We assume that the bikers enter the cyclepath where it begins and finish the trip ath the end of the cyclepath. When they enter the battery is fully charged. Moreover, the bikers will make all possible deviations in order to visit all the POIs.\n",
        "\n",
        "\n",
        "\n",
        "\n",
        "\n"
      ]
    },
    {
      "cell_type": "markdown",
      "id": "65d91fd2",
      "metadata": {
        "id": "65d91fd2"
      },
      "source": [
        "## Formulation\n",
        "\n",
        "To support the formulation we make use of a graph with $2n+2$ nodes.\n",
        "Nodes $s$ and $t$ represent the extremes of the cyclepath.\n",
        "\n",
        "Nodes\n",
        "\n",
        "*   $L = \\{1,\\ldots,n\\}$:  locations along the cyclepath from which bikers deviate\n",
        "\n",
        "\n",
        "*   $H = \\{1',\\ldots, n'\\}$:  POIs that may host a charging station.\n",
        "\n",
        "*   $\\{s,t\\}$: extremes of the cyclepath.\n",
        "\n",
        "Arcs\n",
        "\n",
        "*  $\\{(i,i+1), (i+1, i) 1,\\ldots,n \\}$: arcs of the cyclepath in the two directions\n",
        "\n",
        "*  $\\{(i,i'), (i',i), i\\in L, i'\\in H\\}$: arcs representing the deviations from the cyclepath\n",
        "\n",
        "### Example of the graph\n",
        "![picture](https://drive.google.com/file/d/1A4dSP-4K1E3jwaab4A8JT21TKD7FINaK/view?usp=drive_link)\n",
        "\n",
        "### Parameters\n",
        "\n",
        "*   $d_{i,i+1}, d_{i+1,i}, i=1,\\ldots,n-1$: energy consumption between consecutive nodes,\n",
        "*   $d_{i,i'}, d_{i',i}, i \\in L, i'\\in H$: energy consumption for the deviations\n",
        "*   $c_i'$: cost of installing a charging station in site $i' \\in H$\n",
        "*   $\\Delta$: maximum energy consumption between consecutive charging stations\n",
        "\n",
        "We assume that $d_{s,1} d_{1,s} = d_{n,t} = d_{t,n} = 0$.\n",
        "Note that the energy consumption on each arc can be different in the two directions, depending on the orography.\n",
        "\n",
        "\n",
        "\n",
        "\n",
        "\n",
        "\n"
      ]
    },
    {
      "cell_type": "markdown",
      "id": "starting-attachment",
      "metadata": {
        "id": "starting-attachment"
      },
      "source": [
        "## Problem 1\n",
        "\n",
        "Consider a biker that traverses the cyclepath from $s$ to $t$, determine in which nodes of $H$ to install the charging stations so that the maximum energy consumption between two consecutive charging stations is no more than $\\Delta$ and minimize the overall cost.\n",
        "\n",
        "\n",
        "\n",
        "## Problem 2\n",
        "\n",
        "Consider a biker that traverses the cyclepath from $t$ to $s$, determine in which nodes of $H$ to install the charging stations so that the maximum energy consumption between two consecutive charging stations is no more than $\\Delta$ and minimize the overall cost.\n",
        "\n",
        "### Comments\n",
        "Do you obtain the same solution? Why?\n",
        "\n",
        "### Recommendation\n",
        "The problems can be solved by a simple formulation. The solution of complex problems as the TSP is not necessary.\n",
        "Do not use external libraries apart from those presented in class.\n",
        "\n"
      ]
    },
    {
      "cell_type": "code",
      "execution_count": null,
      "id": "6ac6b084",
      "metadata": {
        "colab": {
          "base_uri": "https://localhost:8080/"
        },
        "id": "6ac6b084",
        "outputId": "9cc0443b-3b44-479e-beb3-d8679b415cd2"
      },
      "outputs": [],
      "source": [
        "#import libraries\n",
        "\n",
        "!pip install mip\n",
        "!pip install --upgrade cffi==1.15.0\n",
        "import importlib\n",
        "import cffi\n",
        "importlib.reload(cffi)\n",
        "import numpy as np\n",
        "import math\n",
        "import networkx as nx\n",
        "import matplotlib.pyplot as plt"
      ]
    },
    {
      "cell_type": "markdown",
      "id": "1a51e636",
      "metadata": {
        "id": "1a51e636"
      },
      "source": [
        "## Solution Problem 1"
      ]
    },
    {
      "cell_type": "code",
      "execution_count": 2,
      "id": "k_M8hFS6Jyih",
      "metadata": {
        "id": "k_M8hFS6Jyih"
      },
      "outputs": [],
      "source": [
        "#data PROBLEM 1\n",
        "\n",
        "n = 15  # number of nodes on the main course\n",
        "n1 = 15 #number of touristic sites\n",
        "delta = 50  # max distance before recharge\n",
        "s = 0   # starting point\n",
        "t = n  # destination\n",
        "consumption = [20, 32, 11, 37, 7, 14, 22, 5, 35, 17, 23, 3, 26, 24] # consumption (in Wh) between two consecutive location along the main course\n",
        "consumption_deviation = [1.1, 0.7, 0.4, 0.9, 2.1, 1.8, 0.5, 0.4, 1.6, 2.5, 1.4, 0.8, 2.0, 1.3, 0.1] # consumption (in Wh) of the deviation\n",
        "inst_cost = [1492, 1789, 1914, 1861, 1348, 1769, 1123, 1432, 1564, 1818, 1901, 1265, 1642, 1712, 1756] #cost (in €) of installation of a charging point related to the node"
      ]
    },
    {
      "cell_type": "code",
      "execution_count": null,
      "id": "NAk7cwB25Ukr",
      "metadata": {
        "colab": {
          "base_uri": "https://localhost:8080/",
          "height": 360
        },
        "id": "NAk7cwB25Ukr",
        "outputId": "9af1d570-ac09-49b1-b835-d7b79c1ef5fa"
      },
      "outputs": [],
      "source": [
        "# Graph visualization\n",
        "\n",
        "g1 = nx.DiGraph()\n",
        "\n",
        "s = 's'\n",
        "t = 't'\n",
        "\n",
        "nodes = [i for i in range(1, n + n1 + 1)]  # set of nodes without s and t\n",
        "\n",
        "x_coordinates = [20, 40, 72, 83, 120, 127, 141, 163, 168, 203, 220, 243, 246, 272, 296]  # vector where each element is the cumulative sum of distances up to the i-th node\n",
        "\n",
        "coord1 = {}  # associate coordinates to each node\n",
        "for i in nodes:\n",
        "    if i <= n:\n",
        "        coord1[i] = (x_coordinates[i - 1], 0)  # main nodes in a horizontal line\n",
        "    else:\n",
        "        coord1[i] = (x_coordinates[i - n - 1], consumption_deviation[i - 16] + 1)  # deviation nodes above main nodes\n",
        "\n",
        "arcs = [(i, j) for i in nodes for j in nodes if (j == n + i or (j == i + 1 and j <= 15))]  # set of arcs, without s and t\n",
        "\n",
        "for i in range(1, n):  # add weights to arcs for labels\n",
        "    g1.add_edge(i, i + 1, weight=consumption[i - 1])\n",
        "for i in range(1, n1 + 1):\n",
        "    g1.add_edge(i, n + i, weight=consumption_deviation[i - 1])\n",
        "    g1.add_edge(n + i, i, weight=consumption_deviation[i - 1])\n",
        "\n",
        "nodes += [s, t]  # add nodes s and t, and respective arcs with null weight\n",
        "arcs += [(s, 1), (15, t)]\n",
        "coord1[s] = (0, 0)\n",
        "coord1[t] = (x_coordinates[n - 1] + 20, 0)\n",
        "g1.add_edge(s, 1, weight=0)\n",
        "g1.add_edge(n, t, weight=0)\n",
        "\n",
        "g1.add_nodes_from(nodes)\n",
        "\n",
        "node_colors1 = ['yellow' for node in g1.nodes()]\n",
        "\n",
        "# Dictionary for node labels\n",
        "labels = {}\n",
        "for i in range(1, n + 1):\n",
        "    labels[i] = str(i)\n",
        "for i in range(n + 1, n + n1 + 1):\n",
        "    labels[i] = f\"{i - n}'\"\n",
        "labels[s] = 's'\n",
        "labels[t] = 't'\n",
        "\n",
        "plt.figure(figsize=(25, 6))\n",
        "nx.draw(g1, pos=coord1, with_labels=True, labels=labels, node_color=node_colors1, node_size=500, font_size=10)\n",
        "edge_labels = nx.get_edge_attributes(g1, 'weight')\n",
        "nx.draw_networkx_edge_labels(g1, pos=coord1, edge_labels=edge_labels, font_color='blue')\n",
        "plt.show()\n"
      ]
    },
    {
      "cell_type": "code",
      "execution_count": null,
      "id": "F29pxMjAT7n5",
      "metadata": {
        "colab": {
          "base_uri": "https://localhost:8080/"
        },
        "id": "F29pxMjAT7n5",
        "outputId": "5b8af193-6346-49d5-90b3-4231facd256a"
      },
      "outputs": [],
      "source": [
        "def distance(i, j):\n",
        "    N = j - i\n",
        "    if i >= 16:\n",
        "        current_POI = i - 16\n",
        "        dist = 0\n",
        "        for a in range(N):\n",
        "            dist += POI_distances[current_POI]\n",
        "            current_POI += 1\n",
        "        return dist\n",
        "    else:\n",
        "        return 0\n",
        "\n",
        "POI_distances = [21.8, 33.1, 12.3, 40, 10.9, 16.3, 22.9, 7, 39.1, 20.9, 25.2, 5.8, 29.3, 25.4]\n",
        "\n",
        "import mip\n",
        "\n",
        "# model\n",
        "m = mip.Model()\n",
        "\n",
        "# variables\n",
        "x = [m.add_var(var_type=mip.BINARY) for i in range(n1)]\n",
        "\n",
        "# constraints\n",
        "for i in range(16, 31):\n",
        "    for j in range(i + 1, 31):\n",
        "        dist = distance(i, j)\n",
        "        m.add_constr(mip.xsum(x[k] for k in range(i - 15, j - 16)) >= (1 / 1000) * (dist - 50))\n",
        "\n",
        "# objective function\n",
        "m.objective = mip.minimize(mip.xsum(inst_cost[i] * x[i] for i in range(n1)))\n",
        "\n",
        "# model optimization\n",
        "m.optimize()\n",
        "\n",
        "# print the result\n",
        "n_installed = 0\n",
        "for i in range(len(x)):\n",
        "    n_installed += x[i].x\n",
        "\n",
        "print(\"Number of charging stations installed:\", n_installed)\n",
        "print(\"Total cost:\", m.objective_value)\n",
        "for i in range(n1):\n",
        "    if x[i].x >= 0.99:\n",
        "        print(f\"Charging station installed at POI {i+1}'\")\n"
      ]
    },
    {
      "cell_type": "code",
      "execution_count": null,
      "id": "tf36urfdmSM0",
      "metadata": {
        "colab": {
          "base_uri": "https://localhost:8080/",
          "height": 360
        },
        "id": "tf36urfdmSM0",
        "outputId": "7e2707cf-0426-4891-b0f8-aa68dd990ccd"
      },
      "outputs": [],
      "source": [
        "# Solution visualization on the graph: POIs with charging stations in green\n",
        "\n",
        "highlighted_nodes = [17, 19, 20, 22, 23, 25, 27, 29]\n",
        "\n",
        "node_colors1 = ['green' if node in highlighted_nodes else 'yellow' for node in g1.nodes()]\n",
        "\n",
        "labels = {}\n",
        "for i in range(1, n + 1):\n",
        "    labels[i] = str(i)\n",
        "for i in range(n + 1, n + n1 + 1):\n",
        "    labels[i] = f\"{i - n}'\"\n",
        "labels[s] = 's'\n",
        "labels[t] = 't'\n",
        "\n",
        "plt.figure(figsize=(25, 6))\n",
        "nx.draw(g1, pos=coord1, with_labels=True, labels=labels, node_color=node_colors1, node_size=500, font_size=10)\n",
        "edge_labels = nx.get_edge_attributes(g1, 'weight')\n",
        "nx.draw_networkx_edge_labels(g1, pos=coord1, edge_labels=edge_labels, font_color='blue')\n",
        "plt.show()\n"
      ]
    },
    {
      "cell_type": "markdown",
      "id": "a1dd33de",
      "metadata": {
        "id": "a1dd33de"
      },
      "source": [
        "## Solution Problem 2"
      ]
    },
    {
      "cell_type": "code",
      "execution_count": 6,
      "id": "b6ce091b",
      "metadata": {
        "id": "b6ce091b"
      },
      "outputs": [],
      "source": [
        "#data PROBLEM 2\n",
        "\n",
        "n = 15  # number of nodes on the main course\n",
        "n1 = 15 #number of touristic sites\n",
        "delta = 50  # max distance before recharge\n",
        "s = 0   # starting point\n",
        "t = n  # destination\n",
        "consumption = [12, 24, 7, 8, 35, 21, 19, 9, 31, 15, 21, 6, 23, 29] # consumption (in Wh) between two consecutive location along the main course\n",
        "consumption_deviation = [1.7, 2.1, 1.1, 0.3, 0.4, 2.3, 0.2, 0.9, 2.1, 4.3, 5.2, 0.1, 2.8, 0.9, 0.1] # consumption (in Wh) of the deviation\n",
        "\n",
        "inst_cost = [1492, 1789, 1914, 1861, 1348, 1769, 1123, 1432, 1564, 1818, 1901, 1265, 1642, 1712, 1756]"
      ]
    },
    {
      "cell_type": "code",
      "execution_count": null,
      "id": "ed20359d",
      "metadata": {
        "colab": {
          "base_uri": "https://localhost:8080/",
          "height": 360
        },
        "id": "ed20359d",
        "outputId": "9a5b3f55-3040-4f28-cd3c-142788fc2277"
      },
      "outputs": [],
      "source": [
        "# Graph visualization with updated weights\n",
        "\n",
        "consumption.reverse()\n",
        "consumption_deviation.reverse()\n",
        "\n",
        "g2 = nx.DiGraph()\n",
        "\n",
        "s = 's'\n",
        "t = 't'\n",
        "\n",
        "nodes = [i for i in range(1, n + n1 + 1)]\n",
        "\n",
        "x_coordinates = [20, 49, 72, 78, 99, 114, 145, 154, 173, 194, 229, 237, 244, 268, 280]\n",
        "\n",
        "coord2 = {}\n",
        "for i in nodes:\n",
        "    if i <= n:\n",
        "        coord2[i] = (x_coordinates[i - 1], 0)\n",
        "    else:\n",
        "        coord2[i] = (x_coordinates[i - n - 1], consumption_deviation[i - 16] + 1)\n",
        "\n",
        "arcs = [(i, j) for i in nodes for j in nodes if (j == n + i or (j == i + 1 and j <= 15))]\n",
        "for i in range(1, n):\n",
        "    g2.add_edge(i + 1, i, weight=consumption[i - 1])\n",
        "for i in range(1, n1 + 1):\n",
        "    g2.add_edge(i, n + i, weight=consumption_deviation[i - 1])\n",
        "    g2.add_edge(n + i, i, weight=consumption_deviation[i - 1])\n",
        "\n",
        "nodes += [s, t]\n",
        "arcs += [(s, 1), (15, t)]\n",
        "coord2[s] = (0, 0)\n",
        "coord2[t] = (x_coordinates[n - 1] + 20, 0)\n",
        "g2.add_edge(1, s, weight=0)\n",
        "g2.add_edge(t, n, weight=0)\n",
        "\n",
        "g2.add_nodes_from(nodes)\n",
        "\n",
        "node_colors2 = ['yellow' for node in g2.nodes()]\n",
        "\n",
        "labels = {}\n",
        "for i in range(1, n + 1):\n",
        "    labels[i] = str(i)\n",
        "for i in range(n + 1, n + n1 + 1):\n",
        "    labels[i] = f\"{i - n}'\"\n",
        "labels[s] = 's'\n",
        "labels[t] = 't'\n",
        "\n",
        "plt.figure(figsize=(25, 6))\n",
        "nx.draw(g2, pos=coord2, with_labels=True, labels=labels, node_color=node_colors2, node_size=500, font_size=10)\n",
        "edge_labels = nx.get_edge_attributes(g2, 'weight')\n",
        "nx.draw_networkx_edge_labels(g2, pos=coord2, edge_labels=edge_labels, font_color='blue')\n",
        "plt.show()\n",
        "\n",
        "consumption.reverse()\n",
        "consumption_deviation.reverse()\n"
      ]
    },
    {
      "cell_type": "code",
      "execution_count": null,
      "id": "ee7bb0eb",
      "metadata": {
        "colab": {
          "base_uri": "https://localhost:8080/"
        },
        "id": "ee7bb0eb",
        "outputId": "57a94610-09b4-4f99-f0fd-d225a4fea682"
      },
      "outputs": [],
      "source": [
        "def distance(i, j):\n",
        "    N = j - i\n",
        "    if i >= 16:\n",
        "        current_POI = i - 16\n",
        "        dist = 0\n",
        "        for a in range(N):\n",
        "            dist += POI_distances[current_POI]\n",
        "            current_POI += 1\n",
        "        return dist\n",
        "    else:\n",
        "        return 0\n",
        "\n",
        "POI_distances = [30, 26.7, 8.9, 26.3, 24.5, 37.4, 12, 20.1, 23.5, 37.7, 8.7, 8.4, 27.2, 15.8]\n",
        "\n",
        "import mip\n",
        "\n",
        "# model\n",
        "m = mip.Model()\n",
        "\n",
        "# variables\n",
        "x = [m.add_var(var_type=mip.BINARY) for i in range(n1)]\n",
        "\n",
        "# constraints\n",
        "for i in range(16, 31):\n",
        "    for j in range(i + 1, 31):\n",
        "        dist = distance(i, j)\n",
        "        m.add_constr(mip.xsum(x[k] for k in range(i - 15, j - 16)) >= (1 / 1000) * (dist - 50))\n",
        "\n",
        "# objective function\n",
        "m.objective = mip.minimize(mip.xsum(inst_cost[i] * x[i] for i in range(n1)))\n",
        "\n",
        "# model optimization\n",
        "m.optimize()\n",
        "\n",
        "# print the result\n",
        "n_installed = 0\n",
        "for i in range(len(x)):\n",
        "    n_installed += x[i].x\n",
        "\n",
        "print(\"Number of charging stations installed:\", n_installed)\n",
        "print(\"Total cost:\", m.objective_value)\n",
        "for i in range(n1):\n",
        "    if x[i].x >= 0.99:\n",
        "        print(f\"Charging station installed at POI {i+1}'\")\n"
      ]
    },
    {
      "cell_type": "code",
      "execution_count": null,
      "id": "c3000bb2",
      "metadata": {
        "colab": {
          "base_uri": "https://localhost:8080/",
          "height": 360
        },
        "id": "c3000bb2",
        "outputId": "866f688a-ce82-40d4-e288-09e0909e00b0"
      },
      "outputs": [],
      "source": [
        "# Solution visualization on the graph: POIs with charging stations in green\n",
        "\n",
        "highlighted_nodes = [17, 19, 20, 21, 23, 25, 27, 28]\n",
        "\n",
        "node_colors2 = ['green' if node in highlighted_nodes else 'yellow' for node in g2.nodes()]\n",
        "\n",
        "labels = {}\n",
        "for i in range(1, n + 1):\n",
        "    labels[i] = str(i)\n",
        "for i in range(n + 1, n + n1 + 1):\n",
        "    labels[i] = f\"{i - n}'\"\n",
        "labels[s] = 's'\n",
        "labels[t] = 't'\n",
        "\n",
        "plt.figure(figsize=(25, 6))\n",
        "nx.draw(g2, pos=coord2, with_labels=True, labels=labels, node_color=node_colors2, node_size=500, font_size=10)\n",
        "edge_labels = nx.get_edge_attributes(g2, 'weight')\n",
        "nx.draw_networkx_edge_labels(g2, pos=coord2, edge_labels=edge_labels, font_color='blue')\n",
        "plt.show()\n"
      ]
    },
    {
      "cell_type": "code",
      "execution_count": null,
      "id": "303952ca",
      "metadata": {
        "colab": {
          "base_uri": "https://localhost:8080/",
          "height": 337
        },
        "id": "303952ca",
        "outputId": "9faf1bcf-5070-4815-a455-35f86cf04747"
      },
      "outputs": [],
      "source": [
        "# Comparison of obtained results\n",
        "\n",
        "plt.figure(figsize=(40, 8))\n",
        "plt.suptitle(\"Comparison between the graphs of problem 1 and 2\", fontsize=15)\n",
        "\n",
        "plt.subplot(121)\n",
        "plt.title(\"Graph of problem 1\")\n",
        "nx.draw(g1, pos=coord1, with_labels=True, labels=labels, node_color=node_colors1, node_size=500, font_size=10)\n",
        "edge_labels1 = nx.get_edge_attributes(g1, 'weight')\n",
        "nx.draw_networkx_edge_labels(g1, pos=coord1, edge_labels=edge_labels1, font_color='blue')\n",
        "\n",
        "plt.subplot(122)\n",
        "plt.title(\"Graph of problem 2\")\n",
        "nx.draw(g2, pos=coord2, with_labels=True, labels=labels, node_color=node_colors2, node_size=500, font_size=10)\n",
        "edge_labels2 = nx.get_edge_attributes(g2, 'weight')\n",
        "nx.draw_networkx_edge_labels(g2, pos=coord2, edge_labels=edge_labels2, font_color='blue')\n",
        "\n",
        "plt.show()\n"
      ]
    },
    {
      "cell_type": "markdown",
      "id": "bd2f07f2",
      "metadata": {
        "id": "bd2f07f2"
      },
      "source": [
        "## Comment\n",
        "\n",
        "Do you obtain the same solution? Why?"
      ]
    },
    {
      "cell_type": "markdown",
      "id": "58f4968a",
      "metadata": {
        "id": "58f4968a"
      },
      "source": [
        "----- Francesco Pisacane -----\n",
        "\n",
        "### The solutions obtained are different.\n",
        "\n",
        "In the first problem, the result is as follows:  \n",
        "- Number of charging stations installed: 8.0  \n",
        "- Total cost: 12348.0  \n",
        "- Charging stations installed at POIs: 2', 4', 5', 7', 8', 10', 12', 14'  \n",
        "\n",
        "In the second problem, the result is as follows:  \n",
        "- Number of charging stations installed: 8.0  \n",
        "- Total cost: 12924.0  \n",
        "- Charging stations installed at POIs: 2', 4', 5', 6', 8', 10', 12', 13'  \n",
        "\n",
        "On closer inspection, conceptually, the two problems are essentially equivalent, and these differences are due to the varying data values involved. In fact, due to the territory’s morphology, energy consumption varies, and consequently, so does the optimal choice of POIs where charging stations should be installed.\n",
        "\\\\\n",
        "\n",
        "### Explanation of the Code/Logic Used:\n",
        "\n",
        "- **Graph Visualization**: I based my approach on the `networkx` module, which we explored during lab sessions. After defining the set of nodes and edges, assigning them coordinates and corresponding weights, I simply defined the labels and used the module’s functions to display all necessary information on the graph (highlighting in green the POIs where charging stations should be installed).\n",
        "\n",
        "- **Model**: I based my approach on the `mip` module, also reviewed in lab sessions. I first approached the problem on paper as a standard linear programming problem and then translated it into Python:\n",
        "\n",
        "1) **Variables** -> I needed to decide which POIs should have charging stations installed, so I introduced a binary variable `X` for each POI (1 if a station is installed at that POI, 0 otherwise).\n",
        "\n",
        "\\begin{equation}\n",
        "x_i =\n",
        "\\begin{cases}\n",
        "  1\\ if\\ there\\ is\\ a\\ station\\ at\\ i \\\\\n",
        "  0\\ otherwise\n",
        "\\end{cases}\n",
        "\\end{equation} \\\\\n",
        "\n",
        "Implementation with `mip`, using the `add_var` function: \\\\\n",
        "```\n",
        "x = [m.add_var(var_type = mip.BINARY) for i in range(n1)]\n",
        "```\n",
        "\n",
        "\n",
        "\n",
        "\n",
        "2) Constraints -> The only constraint involved is the maximum consumption between two consecutive charging stations. To express this mathematically, we used the following linear expression: \\\\\n",
        "Let $d_{i, j}$ be the total consumption between POIs i and j, then \\\\\n",
        "∀i, j ∈ H it must hold that: $\\sum_{i < k < j} x_k \\geq \\frac{1}{1000}*(d_{i, j} - Δ)$\n",
        "\n",
        "Note: The right term becomes a positive value only when the consumption between i and j exceeds the limit Δ; otherwise, it is always negative. Additionally, by scaling with a large enough constant M (in this case, 1000 seemed reasonable), we force this value to be between 0 and 1 in absolute terms. \\\\\n",
        "In this way, if the consumption between any two POIs (i, j) exceeds the limit of 50, we enforce the presence of at least one charging station at POIs located between i and j, excluding the endpoints. (Note: we simply translated the concept of implication into an inequality).\n",
        "\n",
        "Implementation with `mip`, using the `add_constr` function: \\\\\n",
        "```\n",
        "m.add_constr(mip.xsum(x[k] for k in range(i - 15, j - 16)) >= (1 / 1000) * (dist - 50))\n",
        "```\n",
        "\n",
        "3)  Objective Function -> The goal was to minimize installation costs. This translates into a linear objective function in the system variables given by:\\\\\n",
        "$min{\\sum_{i \\in H} x_i*c_i}$ \\\\\n",
        "where $c_i$ represents the installation costs at the i-th POI. \\\\\n",
        "\n",
        "Implementation with `mip`, using the `minimize` function: \\\\\n",
        "```\n",
        "m.objective = mip.minimize(mip.xsum(inst_cost[i] * x[i] for i in range(n1)))\n",
        "```"
      ]
    }
  ],
  "metadata": {
    "colab": {
      "provenance": []
    },
    "kernelspec": {
      "display_name": "Python 3 (ipykernel)",
      "language": "python",
      "name": "python3"
    },
    "language_info": {
      "codemirror_mode": {
        "name": "ipython",
        "version": 3
      },
      "file_extension": ".py",
      "mimetype": "text/x-python",
      "name": "python",
      "nbconvert_exporter": "python",
      "pygments_lexer": "ipython3",
      "version": "3.10.2"
    }
  },
  "nbformat": 4,
  "nbformat_minor": 5
}
